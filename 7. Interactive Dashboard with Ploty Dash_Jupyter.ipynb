{
    "cells": [
        {
            "cell_type": "code",
            "execution_count": null,
            "metadata": {
                "collapsed": true
            },
            "outputs": [],
            "source": "# Import required libraries\nimport pandas as pd\nimport dash\nimport dash_html_components as html\nimport dash_core_components as dcc\nfrom dash.dependencies import Input, Output\nfrom jupyter_dash import JupyterDash\nimport plotly.express as px\n\n# Read the airline data into pandas dataframe\nspacex_df = pd.read_csv(\"spacex_launch_dash.csv\")\nmax_payload = spacex_df['Payload Mass (kg)'].max()\nmin_payload = spacex_df['Payload Mass (kg)'].min()\n\n# Create a dash application\napp = JupyterDash(__name__)\nJupyterDash.infer_jupyter_proxy_config()\n\n# Create an app layout\napp.layout = html.Div(children=[html.H1('SpaceX Launch Records Dashboard',\n                                        style={'textAlign': 'center', 'color': '#503D36',\n                                               'font-size': 40}),\n                                # TASK 1: Add a dropdown list to enable Launch Site selection\n                                # The default select value is for ALL sites\n                                dcc.Dropdown(\n                                    id='site-dropdown',\n                                    options=[\n                                        {'label': 'CCAFS LC-40', 'value': 'CCAFS LC-40'},\n                                        {'label': 'VAFB SLC-4E', 'value': 'VAFB SLC-4E'},\n                                        {'label': 'KSC LC-39A', 'value': 'KSC LC-39A'},\n                                        {'label': 'CCAFS SLC-40', 'value': 'CCAFS SLC-40'},\n                                        {'label': 'All Sites', 'value': 'ALL'}\n                                    ],\n                                    value='ALL',\n                                    placeholder='Select a Launch Site here',\n                                    searchable=True\n                                ),\n                                html.Br(),\n\n                                # TASK 2: Add a pie chart to show the total successful launches count for all sites\n                                # If a specific launch site was selected, show the Success vs. Failed counts for the site\n                                html.Div(dcc.Graph(id='success-pie-chart')),\n                                html.Br(),\n\n                                html.P(\"Payload range (Kg):\"),\n                                # TASK 3: Add a slider to select payload range\n                                dcc.RangeSlider(id='payload-slider',\n                                                min=0,\n                                                max=10000,\n                                                step=1000,\n                                                value=[min_payload, max_payload]\n                                                ),\n\n                                # TASK 4: Add a scatter chart to show the correlation between payload and launch success\n                                html.Div(dcc.Graph(id='success-payload-scatter-chart')),\n                                ])\n\n\n# TASK 2:\n# Add a callback function for `site-dropdown` as input, `success-pie-chart` as output\n@app.callback(Output(component_id='success-pie-chart', component_property='figure'),\n              Input(component_id='site-dropdown', component_property='value'))\ndef get_graph(site):\n    if site == 'ALL':\n        df = spacex_df.groupby('Launch Site')['class'].sum().reset_index()\n        pie_fig = px.pie(df, values='class', names='Launch Site',\n                         title='Total Success Launches By Site')\n    else:\n        df = spacex_df[spacex_df['Launch Site'] == site]\n        df_class = df['class'].value_counts().to_frame('freq')\n        df_class.index.name = 'class'\n        df_class.reset_index(inplace=True)\n        pie_fig = px.pie(df_class, values='freq', names='class',\n                         title='Total Success Launches for site ' + str(site))\n    return pie_fig\n\n\n# TASK 4:\n# Add a callback function for `site-dropdown` and `payload-slider` as inputs, `success-payload-scatter-chart` as output\n@app.callback(Output(component_id='success-payload-scatter-chart', component_property='figure'),\n              [Input(component_id='site-dropdown', component_property='value'),\n               Input(component_id='payload-slider', component_property='value')])\ndef get_scatter_graph(site, slider_range):\n    low, high = slider_range\n    mask = (spacex_df['Payload Mass (kg)'] > low) & (spacex_df['Payload Mass (kg)'] < high)\n    if site == 'ALL':\n        scatter_fig = px.scatter(spacex_df[mask], x='Payload Mass (kg)', y='class',\n                                 color=\"Booster Version Category\")\n    else:\n        df = spacex_df[spacex_df['Launch Site'] == site]\n        scatter_fig = px.scatter(df[mask], x='Payload Mass (kg)', y='class',\n                                 color=\"Booster Version Category\")\n    return scatter_fig\n\n\n# Run the app\nif __name__ == '__main__':\n    app.run_server(mode=\"inline\", host=\"localhost\", port=7645, debug=True)\n"
        }
    ],
    "metadata": {
        "kernelspec": {
            "display_name": "Python 3.8",
            "language": "python",
            "name": "python3"
        },
        "language_info": {
            "codemirror_mode": {
                "name": "ipython",
                "version": 3
            },
            "file_extension": ".py",
            "mimetype": "text/x-python",
            "name": "python",
            "nbconvert_exporter": "python",
            "pygments_lexer": "ipython3",
            "version": "3.8.10"
        }
    },
    "nbformat": 4,
    "nbformat_minor": 1
}
